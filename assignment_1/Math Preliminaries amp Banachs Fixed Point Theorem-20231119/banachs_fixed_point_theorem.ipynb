{
 "cells": [
  {
   "cell_type": "markdown",
   "metadata": {},
   "source": [
    "# Banach's Fixed Point Theorem"
   ]
  },
  {
   "cell_type": "markdown",
   "metadata": {},
   "source": [
    "Consider $f_1: \\mathbb{R} \\to \\mathbb{R}$\n",
    "$$f_1(x) = \\frac{1}{2}x + 1$$"
   ]
  },
  {
   "cell_type": "markdown",
   "metadata": {},
   "source": [
    "## Question: Is $f_1$ a contraction in the space $(\\mathbb{R}, |\\cdot|)$?\n",
    "where $|x|$ is the absolute value of $x$."
   ]
  },
  {
   "cell_type": "code",
   "execution_count": 2,
   "metadata": {},
   "outputs": [],
   "source": [
    "import numpy as np\n",
    "\n",
    "def rep(x, f, num_iters):\n",
    "    for _ in range(num_iters):\n",
    "         x = f(x)\n",
    "    return x"
   ]
  },
  {
   "cell_type": "markdown",
   "metadata": {},
   "source": [
    "`rep` iterates the map $f$ `num_iters` times, starting from the initial value `x`:\n",
    "$$f(f(\\cdots (f(x)))) $$"
   ]
  },
  {
   "cell_type": "code",
   "execution_count": 3,
   "metadata": {},
   "outputs": [
    {
     "data": {
      "text/plain": [
       "[6.0, 2.25, 2.0078125, 2.0, 2.0]"
      ]
     },
     "execution_count": 3,
     "metadata": {},
     "output_type": "execute_result"
    }
   ],
   "source": [
    "def f1(x):\n",
    "    return 0.5 * x + 1\n",
    "\n",
    "[rep(10, f1, num_iters) for num_iters in [1, 5, 10, 100, 1000]]"
   ]
  },
  {
   "cell_type": "code",
   "execution_count": 11,
   "metadata": {},
   "outputs": [
    {
     "data": {
      "image/png": "[encoded data removed]",
      "text/plain": [
       "<Figure size 640x480 with 1 Axes>"
      ]
     },
     "metadata": {},
     "output_type": "display_data"
    }
   ],
   "source": [
    "from matplotlib import pyplot as plt\n",
    "\n",
    "x_range = np.arange(-3, 4)\n",
    "x_hor = np.arange(-3, 3)\n",
    "x_vert = np.arange(-1, 3)\n",
    "plt.plot(x_range, f1(x_range))\n",
    "\n",
    "# draw dashed horizontal line at 0\n",
    "plt.plot(x_hor, np.zeros_like(x_hor) + 2, linestyle='dashed')\n",
    "# draw dashed vertical line at 0\n",
    "plt.plot(np.zeros_like(x_vert) + 2, x_vert, linestyle='dashed')\n",
    "\n",
    "# draw the point (2,2)\n",
    "plt.scatter(2, 2)\n",
    "# write text next to point (2,2)\n",
    "plt.annotate('$x = 2$', xy=(2, 2), xytext=(2.3, 1.9))\n",
    "\n",
    "plt.show()"
   ]
  },
  {
   "cell_type": "markdown",
   "metadata": {},
   "source": [
    "Let\n",
    "$$f_2(x) = \\frac{3}{2}x + 1$$"
   ]
  },
  {
   "cell_type": "markdown",
   "metadata": {},
   "source": [
    "## Question: Is $f_2$ a contraction mapping in the space $(\\mathbb{R}, |\\cdot|)$?"
   ]
  },
  {
   "cell_type": "code",
   "execution_count": 56,
   "metadata": {},
   "outputs": [
    {
     "data": {
      "text/plain": [
       "[8.5, 51.15625, 401.6552734375, 2.845928242746505e+18, 8.636884178343179e+176]"
      ]
     },
     "execution_count": 56,
     "metadata": {},
     "output_type": "execute_result"
    }
   ],
   "source": [
    "def f2(x):\n",
    "    return 1.5 * x + 1\n",
    "\n",
    "[rep(5, f2, num_iters) for num_iters in [1, 5, 10, 100, 1000]]"
   ]
  },
  {
   "cell_type": "code",
   "execution_count": 12,
   "metadata": {},
   "outputs": [
    {
     "data": {
      "text/plain": [
       "[0.28366218546322625,\n",
       " 0.6674533830038623,\n",
       " 0.748720383642674,\n",
       " 0.7390851332151607,\n",
       " 0.7390851332151607]"
      ]
     },
     "execution_count": 12,
     "metadata": {},
     "output_type": "execute_result"
    }
   ],
   "source": [
    "[rep(5, np.cos, num_iters) for num_iters in [1, 5, 10, 100, 1000]]"
   ]
  }
 ],
 "metadata": {
  "kernelspec": {
   "display_name": "Python 3.11.5 ('ml_venv')",
   "language": "python",
   "name": "python3"
  },
  "language_info": {
   "codemirror_mode": {
    "name": "ipython",
    "version": 3
   },
   "file_extension": ".py",
   "mimetype": "text/x-python",
   "name": "python",
   "nbconvert_exporter": "python",
   "pygments_lexer": "ipython3",
   "version": "3.11.5"
  },
  "orig_nbformat": 4,
  "vscode": {
   "interpreter": {
    "hash": "ca8060acd9adfae9bb5790ded9a2186afb83e1dbce524319b421a3eb6d028d9d"
   }
  }
 },
 "nbformat": 4,
 "nbformat_minor": 2
}
